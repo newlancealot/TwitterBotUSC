{
 "cells": [
  {
   "cell_type": "code",
   "execution_count": 1,
   "metadata": {
    "collapsed": true
   },
   "outputs": [],
   "source": [
    "# Dependencies\n",
    "import tweepy\n",
    "import json\n",
    "import numpy as np\n",
    "import pandas as pd\n",
    "import matplotlib.pyplot as plt\n",
    "import random\n",
    "import time\n",
    "\n",
    "# Import and Initialize Sentiment Analyzer\n",
    "from vaderSentiment.vaderSentiment import SentimentIntensityAnalyzer\n",
    "analyzer = SentimentIntensityAnalyzer()\n",
    "\n",
    "# Twitter API Keys. Place your keys here.\n",
    "#from config import api_keyTwitter\n",
    "#from config import api_secretTwitter\n",
    "#from config import access_tokenTwitter\n",
    "#from config import access_tokensecretTwitter\n",
    "\n",
    "#This is how i hide my API keys in heroku\n",
    "api_keyTwitter= os.environ['']\n",
    "pi_secretTwitter= os.environ['']\n",
    "access_tokenTwitter= os.environ['']\n",
    "access_tokensecretTwitter= os.environ['']\n",
    "\n",
    "# Setup Tweepy API Authentication\n",
    "\n",
    "auth = tweepy.OAuthHandler(api_keyTwitter, api_secretTwitter)\n",
    "auth.set_access_token(access_tokenTwitter, access_tokensecretTwitter)\n",
    "api = tweepy.API(auth, parser=tweepy.parsers.JSONParser())"
   ]
  },
  {
   "cell_type": "code",
   "execution_count": null,
   "metadata": {
    "collapsed": true
   },
   "outputs": [],
   "source": [
    "# Quotes to Tweet\n",
    "happy_quotes = [\n",
    "    \"For every minute you are angry you lose sixty seconds of happiness. - Ralph Waldo Emerson\",\n",
    "    \"Folks are usually about as happy as they make their minds up to be. - Abraham Lincoln\",\n",
    "    \"Happiness is when what you think, what you say, and what you do are in harmony. - Mahatma Gandhi\",\n",
    "    \"Count your age by friends, not years. Count your life by smiles, not tears. - John Lennon\",\n",
    "    \"Happiness is a warm puppy. - Charles M. Schulz\",\n",
    "    \"The happiness of your life depends upon the quality of your thoughts. - Marcus Aurelius\",\n",
    "    \"Now and then it's good to pause in our pursuit of happiness and just be happy. - Guillaume Apollinaire\"]\n",
    "\n",
    "\n",
    "# Create function for tweeting\n",
    "def HappyItUp():\n",
    "\n",
    "    # Twitter credentials\n",
    "    auth = tweepy.OAuthHandler(consumer_key, consumer_secret)\n",
    "    auth.set_access_token(access_token, access_token_secret)\n",
    "    api = tweepy.API(auth, parser=tweepy.parsers.JSONParser())\n",
    "\n",
    "    # Tweet a random quote\n",
    "    api.update_status(random.choice(happy_quotes))\n",
    "\n",
    "    # Print success message\n",
    "    print(\"Tweeted successfully, sir!\")\n",
    "\n",
    "\n",
    "# Set timer to run every minute\n",
    "while(True):\n",
    "    HappyItUp()\n",
    "    time.sleep(60)"
   ]
  }
 ],
 "metadata": {
  "kernelspec": {
   "display_name": "Python 3",
   "language": "python",
   "name": "python3"
  },
  "language_info": {
   "codemirror_mode": {
    "name": "ipython",
    "version": 3
   },
   "file_extension": ".py",
   "mimetype": "text/x-python",
   "name": "python",
   "nbconvert_exporter": "python",
   "pygments_lexer": "ipython3",
   "version": "3.6.3"
  }
 },
 "nbformat": 4,
 "nbformat_minor": 2
}
